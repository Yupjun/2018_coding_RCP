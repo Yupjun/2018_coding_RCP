{
 "cells": [
  {
   "cell_type": "code",
   "execution_count": 11,
   "metadata": {},
   "outputs": [
    {
     "name": "stdout",
     "output_type": "stream",
     "text": [
      "RED팀은 총 13367 점입니다\n",
      "BLUE팀은 총 13295 점입니다\n"
     ]
    },
    {
     "data": {
      "image/png": "[encoded data removed]",
      "text/plain": [
       "<Figure size 720x360 with 1 Axes>"
      ]
     },
     "metadata": {
      "needs_background": "light"
     },
     "output_type": "display_data"
    },
    {
     "data": {
      "image/png": "[encoded data removed]",
      "text/plain": [
       "<Figure size 720x360 with 1 Axes>"
      ]
     },
     "metadata": {
      "needs_background": "light"
     },
     "output_type": "display_data"
    },
    {
     "name": "stdout",
     "output_type": "stream",
     "text": [
      "RED팀은 3343승,3338무,3319패로 총 13367점입니다.\n",
      "RED팀은 가위 : 3343, 바위: 3319, 보: 3338 번 냈습니다.\n",
      "BLUE팀은 3319승,3338무,3343패로 총 13295점입니다.\n",
      "BLUE팀은 가위 : 0, 바위: 0, 보: 10000 번 냈습니다.\n",
      "RED팀이 BLUE팀을 72점 차이로 이겼습니다\n"
     ]
    }
   ],
   "source": [
    "### 모듈 선언부\n",
    "\n",
    "from random import choice\n",
    "import matplotlib.pyplot as plt\n",
    "import numpy as np\n",
    "from numpy import array\n",
    "from scipy import stats, polyval\n",
    "from pylab import plot, title, show, legend\n",
    "#matplotlib 한글패치\n",
    "from matplotlib import font_manager, rc\n",
    "font_name = font_manager.FontProperties(fname=\"c:/Windows/Fonts/malgun.ttf\").get_name()\n",
    "rc('font', family=font_name)\n",
    "\n",
    "### 변수 선언부\n",
    "\n",
    "red_game_record =[] # red팀이 낸 손의 결과\n",
    "red_result_record=[] # red 팀 결과 [3 , 0 , -1] 형태로 나타남 \n",
    "red_name = \"\" # 이름\n",
    "\n",
    "\n",
    "blue_game_record =[] # blue팀이 낸 손의 목록\n",
    "blue_result_record=[] # blue팀의 게임 결과 [ 3,0,-1] 형태로 나타남\n",
    "blue_name = \"\"\n",
    "\n",
    "\n",
    "#### 함수 선언 부\n",
    "\n",
    "def game_rate_analysis():\n",
    "    print(\"RED팀은 총 %d 점입니다\"%(sum(red_result_record)))\n",
    "    print(\"BLUE팀은 총 %d 점입니다\"%(sum(blue_result_record)))\n",
    "    options = ['승','패','무승부']\n",
    "    x_pos=[red_result_record.count(3),red_result_record.count(1),red_result_record.count(0)]\n",
    "    y_pos = np.arange(len(options))\n",
    "    x_pos1=[blue_result_record.count(3),blue_result_record.count(1),blue_result_record.count(0)]\n",
    "    y_pos1 = np.arange(len(options))\n",
    "    plt.figure(figsize=(10,5))\n",
    "    plt.bar(y_pos,x_pos,align='center', alpha = 0.5)\n",
    "#     plt.bar(y_pos,x_pos1, 'b',align='center', alpha = 0.5)\n",
    "    plt.xticks(y_pos,options)\n",
    "    plt.ylabel('count')\n",
    "    \n",
    "    plt.title('RED 팀이 이기거나 지거나 비긴 확률')\n",
    "    plt.show()\n",
    "    \n",
    "    plt.figure(figsize=(10,5))\n",
    "    plt.bar(y_pos1,x_pos1,align='center', alpha = 0.5)\n",
    "#     plt.bar(y_pos,x_pos1, 'b',align='center', alpha = 0.5)\n",
    "    plt.xticks(y_pos1,options)\n",
    "    plt.ylabel('count')\n",
    "    \n",
    "    plt.title('BLUE 팀이 이기거나 지거나 비긴 확률')\n",
    "    plt.show()\n",
    "    \n",
    "    print(\"%s팀은 %d승,%d무,%d패로 총 %d점입니다.\"%(\"RED\",red_result_record.count(3),red_result_record.count(1),red_result_record.count(0),sum(red_result_record)))\n",
    "    print(\"%s팀은 가위 : %s, 바위: %s, 보: %s 번 냈습니다.\"%(\"RED\",red_game_record.count('gawi'),red_game_record.count('bawi'),red_game_record.count('bo')))\n",
    "    print(\"%s팀은 %d승,%d무,%d패로 총 %d점입니다.\"%(\"BLUE\",blue_result_record.count(3),blue_result_record.count(1),blue_result_record.count(0),sum(blue_result_record)))\n",
    "    print(\"%s팀은 가위 : %s, 바위: %s, 보: %s 번 냈습니다.\"%(\"BLUE\",blue_game_record.count('gawi'),blue_game_record.count('bawi'),blue_game_record.count('bo')))\n",
    "    blue_score =sum(blue_result_record)\n",
    "    red_score = sum(red_result_record)\n",
    "    if blue_score == red_score:\n",
    "        print(\"둘다 %d점으로 동점입니다 승수우선제로 넘어갑니다 체크해주세요\")\n",
    "    elif blue_score > red_score:\n",
    "        print(\"%s팀이 %s팀을 %d점 차이로 이겼습니다\" %(\"BLUE\",\"RED\",blue_score-red_score))\n",
    "    else:\n",
    "        print(\"%s팀이 %s팀을 %d점 차이로 이겼습니다\" %(\"RED\",\"BLUE\",red_score-blue_score))\n",
    "\n",
    "\n",
    "\n",
    "\n",
    "        \n",
    "        \n",
    "# red 팀\n",
    "\n",
    "# past = 상대가 낸 손의 목록\n",
    "# record = 내가 낸 손의 목록\n",
    "# output = 내가 이기고 진 기록\n",
    "\n",
    "#아래 함수 둘 중 하나를 골라서 자신의 것에 맞게 고치세요\n",
    "# 두 함수 모두 랜덤으로 주먹 가위 보 중 하나를 선택하는 구조입니다.\n",
    "\n",
    "def show_me_your_hand_red(past,record,output):\n",
    "    chosen = choice(['gawi','bawi','bo'])\n",
    "    output = chosen\n",
    "    return output\n",
    "\n",
    "# blue 팀\n",
    "# 이 부분을 수정하세요\n",
    "def show_me_your_hand_blue(past,record,output):\n",
    "    chosen = ['gawi','bawi','bo']\n",
    "    return output\n",
    "\n",
    "\n",
    "\n",
    "# 연산하는 곳\n",
    "for i in range(10000):\n",
    "    BLUE= \"\"\n",
    "    RED = \"\"\n",
    "    r=0\n",
    "    if random.choice([True, False]):\n",
    "        BLUE = show_me_your_hand_blue(red_game_record,blue_game_record,blue_result_record)\n",
    "        RED = show_me_your_hand_red(blue_game_record,red_game_record,red_result_record)\n",
    "    else:\n",
    "        RED = show_me_your_hand_red(blue_game_record,red_game_record,red_result_record)\n",
    "        BLUE = show_me_your_hand_blue(red_game_record,blue_game_record,blue_result_record)\n",
    "\n",
    "    red_game_record.append(RED)\n",
    "    blue_game_record.append(BLUE)\n",
    "    \n",
    "    if BLUE==RED:\n",
    "        red_result_record.append(1)\n",
    "        blue_result_record.append(1)\n",
    "        \n",
    "    #BLUE가 이겼을 때\n",
    "    elif (BLUE == 'gawi' and RED == 'bo') or (BLUE == 'bawi' and RED == 'gawi') or (BLUE == 'bo' and RED == 'bawi'):\n",
    "        red_result_record.append(0)\n",
    "        blue_result_record.append(3)\n",
    "    # RED가 이겼을 때\n",
    "    else:\n",
    "        red_result_record.append(3)\n",
    "        blue_result_record.append(0)\n",
    "\n",
    "\n",
    "\n",
    "    \n",
    "\n",
    "        \n",
    "\n",
    "game_rate_analysis()"
   ]
  },
  {
   "cell_type": "code",
   "execution_count": 2,
   "metadata": {},
   "outputs": [
    {
     "name": "stdout",
     "output_type": "stream",
     "text": [
      "[*********************100%***********************]  1 of 1 downloaded\n",
      "[*********************100%***********************]  1 of 1 downloaded\n"
     ]
    }
   ],
   "source": [
    "from pandas_datareader import data\n",
    "import fix_yahoo_finance as yf\n",
    "yf.pdr_override()\n",
    "\n",
    "start_date = '1996-05-06' #startdate를 1996년으로 설정해두면 가장 오래된 데이터부터 전부 가져올 수 있다.\n",
    "tickers = ['067160.KQ', '035420.KS'] #1 아프리카tv와 네이버의 ticker(종목코드)\n",
    "afreeca = data.get_data_yahoo(tickers[0], start_date)\n",
    "naver = data.get_data_yahoo(tickers[1], start_date)"
   ]
  },
  {
   "cell_type": "code",
   "execution_count": null,
   "metadata": {},
   "outputs": [],
   "source": []
  }
 ],
 "metadata": {
  "kernelspec": {
   "display_name": "Python 3",
   "language": "python",
   "name": "python3"
  },
  "language_info": {
   "codemirror_mode": {
    "name": "ipython",
    "version": 3
   },
   "file_extension": ".py",
   "mimetype": "text/x-python",
   "name": "python",
   "nbconvert_exporter": "python",
   "pygments_lexer": "ipython3",
   "version": "3.6.7"
  }
 },
 "nbformat": 4,
 "nbformat_minor": 2
}
